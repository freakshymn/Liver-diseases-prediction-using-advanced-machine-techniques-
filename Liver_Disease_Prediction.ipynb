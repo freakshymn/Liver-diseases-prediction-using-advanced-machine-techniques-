{
 "cells": [
  {
   "cell_type": "code",
   "execution_count": 143,
   "metadata": {
    "id": "4vl7w5M1B8t0"
   },
   "outputs": [],
   "source": [
    "import numpy as np\n",
    "import pandas as pd\n",
    "import matplotlib.pyplot as plt\n",
    "import seaborn as sns"
   ]
  },
  {
   "cell_type": "code",
   "execution_count": 144,
   "metadata": {
    "id": "8yYSYkjMDCjA"
   },
   "outputs": [],
   "source": [
    "dataset=pd.read_csv(\"Liver Patient Dataset (LPD)_train.csv\",encoding= 'unicode_escape')"
   ]
  },
  {
   "cell_type": "code",
   "execution_count": 145,
   "metadata": {
    "colab": {
     "base_uri": "https://localhost:8080/",
     "height": 218
    },
    "id": "i449TlsjDGyc",
    "outputId": "200d0362-b39e-4fca-d6d9-7837f51bcff6"
   },
   "outputs": [
    {
     "data": {
      "text/html": [
       "<div>\n",
       "<style scoped>\n",
       "    .dataframe tbody tr th:only-of-type {\n",
       "        vertical-align: middle;\n",
       "    }\n",
       "\n",
       "    .dataframe tbody tr th {\n",
       "        vertical-align: top;\n",
       "    }\n",
       "\n",
       "    .dataframe thead th {\n",
       "        text-align: right;\n",
       "    }\n",
       "</style>\n",
       "<table border=\"1\" class=\"dataframe\">\n",
       "  <thead>\n",
       "    <tr style=\"text-align: right;\">\n",
       "      <th></th>\n",
       "      <th>Age of the patient</th>\n",
       "      <th>Gender of the patient</th>\n",
       "      <th>Total Bilirubin</th>\n",
       "      <th>Direct Bilirubin</th>\n",
       "      <th>Alkphos Alkaline Phosphotase</th>\n",
       "      <th>Sgpt Alamine Aminotransferase</th>\n",
       "      <th>Sgot Aspartate Aminotransferase</th>\n",
       "      <th>Total Protiens</th>\n",
       "      <th>ALB Albumin</th>\n",
       "      <th>A/G Ratio Albumin and Globulin Ratio</th>\n",
       "      <th>Result</th>\n",
       "    </tr>\n",
       "  </thead>\n",
       "  <tbody>\n",
       "    <tr>\n",
       "      <th>0</th>\n",
       "      <td>65.0</td>\n",
       "      <td>Female</td>\n",
       "      <td>0.7</td>\n",
       "      <td>0.1</td>\n",
       "      <td>187.0</td>\n",
       "      <td>16.0</td>\n",
       "      <td>18.0</td>\n",
       "      <td>6.8</td>\n",
       "      <td>3.3</td>\n",
       "      <td>0.90</td>\n",
       "      <td>1</td>\n",
       "    </tr>\n",
       "    <tr>\n",
       "      <th>1</th>\n",
       "      <td>62.0</td>\n",
       "      <td>Male</td>\n",
       "      <td>10.9</td>\n",
       "      <td>5.5</td>\n",
       "      <td>699.0</td>\n",
       "      <td>64.0</td>\n",
       "      <td>100.0</td>\n",
       "      <td>7.5</td>\n",
       "      <td>3.2</td>\n",
       "      <td>0.74</td>\n",
       "      <td>1</td>\n",
       "    </tr>\n",
       "    <tr>\n",
       "      <th>2</th>\n",
       "      <td>62.0</td>\n",
       "      <td>Male</td>\n",
       "      <td>7.3</td>\n",
       "      <td>4.1</td>\n",
       "      <td>490.0</td>\n",
       "      <td>60.0</td>\n",
       "      <td>68.0</td>\n",
       "      <td>7.0</td>\n",
       "      <td>3.3</td>\n",
       "      <td>0.89</td>\n",
       "      <td>1</td>\n",
       "    </tr>\n",
       "    <tr>\n",
       "      <th>3</th>\n",
       "      <td>58.0</td>\n",
       "      <td>Male</td>\n",
       "      <td>1.0</td>\n",
       "      <td>0.4</td>\n",
       "      <td>182.0</td>\n",
       "      <td>14.0</td>\n",
       "      <td>20.0</td>\n",
       "      <td>6.8</td>\n",
       "      <td>3.4</td>\n",
       "      <td>1.00</td>\n",
       "      <td>1</td>\n",
       "    </tr>\n",
       "    <tr>\n",
       "      <th>4</th>\n",
       "      <td>72.0</td>\n",
       "      <td>Male</td>\n",
       "      <td>3.9</td>\n",
       "      <td>2.0</td>\n",
       "      <td>195.0</td>\n",
       "      <td>27.0</td>\n",
       "      <td>59.0</td>\n",
       "      <td>7.3</td>\n",
       "      <td>2.4</td>\n",
       "      <td>0.40</td>\n",
       "      <td>1</td>\n",
       "    </tr>\n",
       "  </tbody>\n",
       "</table>\n",
       "</div>"
      ],
      "text/plain": [
       "   Age of the patient Gender of the patient  Total Bilirubin  \\\n",
       "0                65.0                Female              0.7   \n",
       "1                62.0                  Male             10.9   \n",
       "2                62.0                  Male              7.3   \n",
       "3                58.0                  Male              1.0   \n",
       "4                72.0                  Male              3.9   \n",
       "\n",
       "   Direct Bilirubin   Alkphos Alkaline Phosphotase  \\\n",
       "0               0.1                          187.0   \n",
       "1               5.5                          699.0   \n",
       "2               4.1                          490.0   \n",
       "3               0.4                          182.0   \n",
       "4               2.0                          195.0   \n",
       "\n",
       "    Sgpt Alamine Aminotransferase  Sgot Aspartate Aminotransferase  \\\n",
       "0                            16.0                             18.0   \n",
       "1                            64.0                            100.0   \n",
       "2                            60.0                             68.0   \n",
       "3                            14.0                             20.0   \n",
       "4                            27.0                             59.0   \n",
       "\n",
       "   Total Protiens   ALB Albumin  A/G Ratio Albumin and Globulin Ratio  Result  \n",
       "0             6.8           3.3                                  0.90       1  \n",
       "1             7.5           3.2                                  0.74       1  \n",
       "2             7.0           3.3                                  0.89       1  \n",
       "3             6.8           3.4                                  1.00       1  \n",
       "4             7.3           2.4                                  0.40       1  "
      ]
     },
     "execution_count": 145,
     "metadata": {},
     "output_type": "execute_result"
    }
   ],
   "source": [
    "dataset.head()"
   ]
  },
  {
   "cell_type": "code",
   "execution_count": 146,
   "metadata": {
    "colab": {
     "base_uri": "https://localhost:8080/",
     "height": 308
    },
    "id": "3uAks6rgDKtg",
    "outputId": "ffcc66f4-9eff-4ecc-b950-fe006e021929"
   },
   "outputs": [
    {
     "data": {
      "text/html": [
       "<div>\n",
       "<style scoped>\n",
       "    .dataframe tbody tr th:only-of-type {\n",
       "        vertical-align: middle;\n",
       "    }\n",
       "\n",
       "    .dataframe tbody tr th {\n",
       "        vertical-align: top;\n",
       "    }\n",
       "\n",
       "    .dataframe thead th {\n",
       "        text-align: right;\n",
       "    }\n",
       "</style>\n",
       "<table border=\"1\" class=\"dataframe\">\n",
       "  <thead>\n",
       "    <tr style=\"text-align: right;\">\n",
       "      <th></th>\n",
       "      <th>Age of the patient</th>\n",
       "      <th>Total Bilirubin</th>\n",
       "      <th>Direct Bilirubin</th>\n",
       "      <th>Alkphos Alkaline Phosphotase</th>\n",
       "      <th>Sgpt Alamine Aminotransferase</th>\n",
       "      <th>Sgot Aspartate Aminotransferase</th>\n",
       "      <th>Total Protiens</th>\n",
       "      <th>ALB Albumin</th>\n",
       "      <th>A/G Ratio Albumin and Globulin Ratio</th>\n",
       "      <th>Result</th>\n",
       "    </tr>\n",
       "  </thead>\n",
       "  <tbody>\n",
       "    <tr>\n",
       "      <th>count</th>\n",
       "      <td>30689.000000</td>\n",
       "      <td>30043.000000</td>\n",
       "      <td>30130.000000</td>\n",
       "      <td>29895.000000</td>\n",
       "      <td>30153.000000</td>\n",
       "      <td>30229.000000</td>\n",
       "      <td>30228.000000</td>\n",
       "      <td>30197.000000</td>\n",
       "      <td>30132.000000</td>\n",
       "      <td>30691.000000</td>\n",
       "    </tr>\n",
       "    <tr>\n",
       "      <th>mean</th>\n",
       "      <td>44.107205</td>\n",
       "      <td>3.370319</td>\n",
       "      <td>1.528042</td>\n",
       "      <td>289.075364</td>\n",
       "      <td>81.488641</td>\n",
       "      <td>111.469979</td>\n",
       "      <td>6.480237</td>\n",
       "      <td>3.130142</td>\n",
       "      <td>0.943467</td>\n",
       "      <td>1.285882</td>\n",
       "    </tr>\n",
       "    <tr>\n",
       "      <th>std</th>\n",
       "      <td>15.981043</td>\n",
       "      <td>6.255522</td>\n",
       "      <td>2.869592</td>\n",
       "      <td>238.537589</td>\n",
       "      <td>182.158850</td>\n",
       "      <td>280.851078</td>\n",
       "      <td>1.081980</td>\n",
       "      <td>0.792281</td>\n",
       "      <td>0.323164</td>\n",
       "      <td>0.451841</td>\n",
       "    </tr>\n",
       "    <tr>\n",
       "      <th>min</th>\n",
       "      <td>4.000000</td>\n",
       "      <td>0.400000</td>\n",
       "      <td>0.100000</td>\n",
       "      <td>63.000000</td>\n",
       "      <td>10.000000</td>\n",
       "      <td>10.000000</td>\n",
       "      <td>2.700000</td>\n",
       "      <td>0.900000</td>\n",
       "      <td>0.300000</td>\n",
       "      <td>1.000000</td>\n",
       "    </tr>\n",
       "    <tr>\n",
       "      <th>25%</th>\n",
       "      <td>32.000000</td>\n",
       "      <td>0.800000</td>\n",
       "      <td>0.200000</td>\n",
       "      <td>175.000000</td>\n",
       "      <td>23.000000</td>\n",
       "      <td>26.000000</td>\n",
       "      <td>5.800000</td>\n",
       "      <td>2.600000</td>\n",
       "      <td>0.700000</td>\n",
       "      <td>1.000000</td>\n",
       "    </tr>\n",
       "    <tr>\n",
       "      <th>50%</th>\n",
       "      <td>45.000000</td>\n",
       "      <td>1.000000</td>\n",
       "      <td>0.300000</td>\n",
       "      <td>209.000000</td>\n",
       "      <td>35.000000</td>\n",
       "      <td>42.000000</td>\n",
       "      <td>6.600000</td>\n",
       "      <td>3.100000</td>\n",
       "      <td>0.900000</td>\n",
       "      <td>1.000000</td>\n",
       "    </tr>\n",
       "    <tr>\n",
       "      <th>75%</th>\n",
       "      <td>55.000000</td>\n",
       "      <td>2.700000</td>\n",
       "      <td>1.300000</td>\n",
       "      <td>298.000000</td>\n",
       "      <td>62.000000</td>\n",
       "      <td>88.000000</td>\n",
       "      <td>7.200000</td>\n",
       "      <td>3.800000</td>\n",
       "      <td>1.100000</td>\n",
       "      <td>2.000000</td>\n",
       "    </tr>\n",
       "    <tr>\n",
       "      <th>max</th>\n",
       "      <td>90.000000</td>\n",
       "      <td>75.000000</td>\n",
       "      <td>19.700000</td>\n",
       "      <td>2110.000000</td>\n",
       "      <td>2000.000000</td>\n",
       "      <td>4929.000000</td>\n",
       "      <td>9.600000</td>\n",
       "      <td>5.500000</td>\n",
       "      <td>2.800000</td>\n",
       "      <td>2.000000</td>\n",
       "    </tr>\n",
       "  </tbody>\n",
       "</table>\n",
       "</div>"
      ],
      "text/plain": [
       "       Age of the patient  Total Bilirubin  Direct Bilirubin  \\\n",
       "count        30689.000000     30043.000000      30130.000000   \n",
       "mean            44.107205         3.370319          1.528042   \n",
       "std             15.981043         6.255522          2.869592   \n",
       "min              4.000000         0.400000          0.100000   \n",
       "25%             32.000000         0.800000          0.200000   \n",
       "50%             45.000000         1.000000          0.300000   \n",
       "75%             55.000000         2.700000          1.300000   \n",
       "max             90.000000        75.000000         19.700000   \n",
       "\n",
       "        Alkphos Alkaline Phosphotase   Sgpt Alamine Aminotransferase  \\\n",
       "count                   29895.000000                    30153.000000   \n",
       "mean                      289.075364                       81.488641   \n",
       "std                       238.537589                      182.158850   \n",
       "min                        63.000000                       10.000000   \n",
       "25%                       175.000000                       23.000000   \n",
       "50%                       209.000000                       35.000000   \n",
       "75%                       298.000000                       62.000000   \n",
       "max                      2110.000000                     2000.000000   \n",
       "\n",
       "       Sgot Aspartate Aminotransferase  Total Protiens   ALB Albumin  \\\n",
       "count                     30229.000000    30228.000000  30197.000000   \n",
       "mean                        111.469979        6.480237      3.130142   \n",
       "std                         280.851078        1.081980      0.792281   \n",
       "min                          10.000000        2.700000      0.900000   \n",
       "25%                          26.000000        5.800000      2.600000   \n",
       "50%                          42.000000        6.600000      3.100000   \n",
       "75%                          88.000000        7.200000      3.800000   \n",
       "max                        4929.000000        9.600000      5.500000   \n",
       "\n",
       "       A/G Ratio Albumin and Globulin Ratio        Result  \n",
       "count                          30132.000000  30691.000000  \n",
       "mean                               0.943467      1.285882  \n",
       "std                                0.323164      0.451841  \n",
       "min                                0.300000      1.000000  \n",
       "25%                                0.700000      1.000000  \n",
       "50%                                0.900000      1.000000  \n",
       "75%                                1.100000      2.000000  \n",
       "max                                2.800000      2.000000  "
      ]
     },
     "execution_count": 146,
     "metadata": {},
     "output_type": "execute_result"
    }
   ],
   "source": [
    "dataset.describe()"
   ]
  },
  {
   "cell_type": "code",
   "execution_count": 147,
   "metadata": {
    "colab": {
     "base_uri": "https://localhost:8080/"
    },
    "id": "gHXmlAZIDNe3",
    "outputId": "1dbe9816-d9c8-4556-a7d1-77d2466cf5fd"
   },
   "outputs": [
    {
     "data": {
      "text/plain": [
       "(30691, 11)"
      ]
     },
     "execution_count": 147,
     "metadata": {},
     "output_type": "execute_result"
    }
   ],
   "source": [
    "dataset.shape"
   ]
  },
  {
   "cell_type": "code",
   "execution_count": 148,
   "metadata": {
    "colab": {
     "base_uri": "https://localhost:8080/"
    },
    "id": "3TlZSvwODTfM",
    "outputId": "268f87ab-6876-4908-d596-0b6487f71db2"
   },
   "outputs": [
    {
     "data": {
      "text/plain": [
       "Index(['Age of the patient', 'Gender of the patient', 'Total Bilirubin',\n",
       "       'Direct Bilirubin', ' Alkphos Alkaline Phosphotase',\n",
       "       ' Sgpt Alamine Aminotransferase', 'Sgot Aspartate Aminotransferase',\n",
       "       'Total Protiens', ' ALB Albumin',\n",
       "       'A/G Ratio Albumin and Globulin Ratio', 'Result'],\n",
       "      dtype='object')"
      ]
     },
     "execution_count": 148,
     "metadata": {},
     "output_type": "execute_result"
    }
   ],
   "source": [
    "dataset.columns"
   ]
  },
  {
   "cell_type": "markdown",
   "metadata": {
    "id": "0aH4Q8M8Hhk7"
   },
   "source": [
    "#Data Cleaning\n",
    "\n",
    "Checking Duplicate tuples, if any will be removed"
   ]
  },
  {
   "cell_type": "code",
   "execution_count": 149,
   "metadata": {
    "colab": {
     "base_uri": "https://localhost:8080/"
    },
    "id": "t1-8OgWlHpKJ",
    "outputId": "e1d6325f-6fc6-49c9-fea2-bbd3e126d0b1"
   },
   "outputs": [
    {
     "data": {
      "text/plain": [
       "0        False\n",
       "1        False\n",
       "2        False\n",
       "3        False\n",
       "4        False\n",
       "         ...  \n",
       "30686    False\n",
       "30687     True\n",
       "30688    False\n",
       "30689    False\n",
       "30690     True\n",
       "Length: 30691, dtype: bool"
      ]
     },
     "execution_count": 149,
     "metadata": {},
     "output_type": "execute_result"
    }
   ],
   "source": [
    "dataset.duplicated()"
   ]
  },
  {
   "cell_type": "code",
   "execution_count": 150,
   "metadata": {
    "colab": {
     "base_uri": "https://localhost:8080/"
    },
    "id": "hIOIhGBIH1tg",
    "outputId": "f6f7990e-7fba-4859-afff-2acc71792dbb"
   },
   "outputs": [
    {
     "data": {
      "text/plain": [
       "11323"
      ]
     },
     "execution_count": 150,
     "metadata": {},
     "output_type": "execute_result"
    }
   ],
   "source": [
    "dataset.duplicated().sum()"
   ]
  },
  {
   "cell_type": "code",
   "execution_count": 151,
   "metadata": {
    "colab": {
     "base_uri": "https://localhost:8080/"
    },
    "id": "gigPeVPuH6PB",
    "outputId": "a29f7e76-4fbd-4e37-e3cc-658faeb6f6aa"
   },
   "outputs": [
    {
     "name": "stdout",
     "output_type": "stream",
     "text": [
      "(19368, 11)\n"
     ]
    }
   ],
   "source": [
    "dataset = dataset.drop_duplicates()\n",
    "print( dataset.shape )"
   ]
  },
  {
   "cell_type": "markdown",
   "metadata": {
    "id": "TdWeSn-oDj7v"
   },
   "source": [
    "#checking Missing Values"
   ]
  },
  {
   "cell_type": "code",
   "execution_count": 152,
   "metadata": {
    "colab": {
     "base_uri": "https://localhost:8080/"
    },
    "id": "9ltQbp6oDVoz",
    "outputId": "722a9499-80c9-4261-c3e8-fbc63b8d4f64"
   },
   "outputs": [
    {
     "data": {
      "text/plain": [
       "Age of the patient                        1\n",
       "Gender of the patient                   796\n",
       "Total Bilirubin                         557\n",
       "Direct Bilirubin                        490\n",
       " Alkphos Alkaline Phosphotase           694\n",
       " Sgpt Alamine Aminotransferase          459\n",
       "Sgot Aspartate Aminotransferase         393\n",
       "Total Protiens                          370\n",
       " ALB Albumin                            413\n",
       "A/G Ratio Albumin and Globulin Ratio    436\n",
       "Result                                    0\n",
       "dtype: int64"
      ]
     },
     "execution_count": 152,
     "metadata": {},
     "output_type": "execute_result"
    }
   ],
   "source": [
    "dataset.isna().sum()"
   ]
  },
  {
   "cell_type": "code",
   "execution_count": 153,
   "metadata": {
    "colab": {
     "base_uri": "https://localhost:8080/",
     "height": 298
    },
    "id": "yoRQ-OV_IW_B",
    "outputId": "1725babb-027d-4a70-8ef9-20840744b2eb"
   },
   "outputs": [
    {
     "data": {
      "text/plain": [
       "<AxesSubplot:xlabel='A/G Ratio Albumin and Globulin Ratio'>"
      ]
     },
     "execution_count": 153,
     "metadata": {},
     "output_type": "execute_result"
    },
    {
     "data": {
      "image/png": "[encoded data removed]",
      "text/plain": [
       "<Figure size 432x288 with 1 Axes>"
      ]
     },
     "metadata": {
      "needs_background": "light"
     },
     "output_type": "display_data"
    }
   ],
   "source": [
    "sns.boxplot(data = dataset, x= 'A/G Ratio Albumin and Globulin Ratio' )"
   ]
  },
  {
   "cell_type": "markdown",
   "metadata": {
    "id": "1SP0w77HJTdJ"
   },
   "source": [
    "Q1 = 0.700 \n",
    "\n",
    "Q3 = 1.1000\n",
    "\n",
    "IQR = 0.4\n",
    "\n",
    "1.5 * 0.4 = 0.6\n",
    "\n",
    "Q1 - 0.6 = 0.1\n",
    "\n",
    "Q3 + 0.6 = 1.7\n",
    "\n",
    "Anything away between 0.1 and 1.7 is considered to be an Outlier\n",
    "\n",
    "\n",
    "\n"
   ]
  },
  {
   "cell_type": "code",
   "execution_count": 154,
   "metadata": {
    "colab": {
     "base_uri": "https://localhost:8080/"
    },
    "id": "P-uVsamqKuP2",
    "outputId": "6a352bf0-7763-43fd-82d1-33b92db4013b"
   },
   "outputs": [
    {
     "data": {
      "text/plain": [
       "0    1.0\n",
       "dtype: float64"
      ]
     },
     "execution_count": 154,
     "metadata": {},
     "output_type": "execute_result"
    }
   ],
   "source": [
    "dataset['A/G Ratio Albumin and Globulin Ratio'].mode()"
   ]
  },
  {
   "cell_type": "code",
   "execution_count": 155,
   "metadata": {
    "colab": {
     "base_uri": "https://localhost:8080/"
    },
    "id": "INE3Ew_OKyov",
    "outputId": "41b66858-79f4-41a7-a1b6-0f527a59eb41"
   },
   "outputs": [
    {
     "data": {
      "text/plain": [
       "0.93"
      ]
     },
     "execution_count": 155,
     "metadata": {},
     "output_type": "execute_result"
    }
   ],
   "source": [
    "dataset['A/G Ratio Albumin and Globulin Ratio'].median()"
   ]
  },
  {
   "cell_type": "code",
   "execution_count": 156,
   "metadata": {
    "colab": {
     "base_uri": "https://localhost:8080/"
    },
    "id": "8zWaENAkK2h3",
    "outputId": "96f73ef4-790c-48a8-d5d8-5fdab45e179c"
   },
   "outputs": [
    {
     "data": {
      "text/plain": [
       "0.9458879146418744"
      ]
     },
     "execution_count": 156,
     "metadata": {},
     "output_type": "execute_result"
    }
   ],
   "source": [
    "dataset['A/G Ratio Albumin and Globulin Ratio'].mean()"
   ]
  },
  {
   "cell_type": "code",
   "execution_count": 157,
   "metadata": {
    "id": "4lofF4kvKS7u"
   },
   "outputs": [],
   "source": [
    "dataset['A/G Ratio Albumin and Globulin Ratio'] = dataset['A/G Ratio Albumin and Globulin Ratio'].fillna(dataset['A/G Ratio Albumin and Globulin Ratio'].median())"
   ]
  },
  {
   "cell_type": "code",
   "execution_count": 158,
   "metadata": {
    "colab": {
     "base_uri": "https://localhost:8080/"
    },
    "id": "5Nte_eX9LXdK",
    "outputId": "b5c03e42-485d-4cef-8253-193012059108"
   },
   "outputs": [
    {
     "data": {
      "text/plain": [
       "Age of the patient                        1\n",
       "Gender of the patient                   796\n",
       "Total Bilirubin                         557\n",
       "Direct Bilirubin                        490\n",
       " Alkphos Alkaline Phosphotase           694\n",
       " Sgpt Alamine Aminotransferase          459\n",
       "Sgot Aspartate Aminotransferase         393\n",
       "Total Protiens                          370\n",
       " ALB Albumin                            413\n",
       "A/G Ratio Albumin and Globulin Ratio      0\n",
       "Result                                    0\n",
       "dtype: int64"
      ]
     },
     "execution_count": 158,
     "metadata": {},
     "output_type": "execute_result"
    }
   ],
   "source": [
    "dataset.isna().sum()"
   ]
  },
  {
   "cell_type": "markdown",
   "metadata": {
    "id": "NTA001aKEDmg"
   },
   "source": [
    "#Male Vs Female"
   ]
  },
  {
   "cell_type": "code",
   "execution_count": 159,
   "metadata": {
    "colab": {
     "base_uri": "https://localhost:8080/",
     "height": 0
    },
    "id": "O-cYPWIfEHX3",
    "outputId": "6f4bc84d-fe88-4958-bc77-eba1a97454fd"
   },
   "outputs": [
    {
     "data": {
      "text/plain": [
       "<AxesSubplot:xlabel='Gender of the patient', ylabel='count'>"
      ]
     },
     "execution_count": 159,
     "metadata": {},
     "output_type": "execute_result"
    },
    {
     "data": {
      "image/png": "[encoded data removed]",
      "text/plain": [
       "<Figure size 432x288 with 1 Axes>"
      ]
     },
     "metadata": {
      "needs_background": "light"
     },
     "output_type": "display_data"
    }
   ],
   "source": [
    "import seaborn as sns\n",
    "sns.countplot(data = dataset, x='Gender of the patient', label='count')"
   ]
  },
  {
   "cell_type": "code",
   "execution_count": 160,
   "metadata": {
    "colab": {
     "base_uri": "https://localhost:8080/"
    },
    "id": "QKm2N0laEfy7",
    "outputId": "56e74188-d568-4279-ed36-bf72b30a1b4c"
   },
   "outputs": [
    {
     "name": "stdout",
     "output_type": "stream",
     "text": [
      "Number of patients that are male:  13019\n",
      "Number of patients that are female:  5553\n"
     ]
    }
   ],
   "source": [
    "Male, Female = dataset['Gender of the patient'].value_counts()\n",
    "print('Number of patients that are male: ',Male)\n",
    "print('Number of patients that are female: ',Female)\n"
   ]
  },
  {
   "cell_type": "markdown",
   "metadata": {
    "id": "ZLiz3VOwDsOL"
   },
   "source": [
    "#Encoding the Gender Column\n",
    "\n",
    "Label Male as 1 and Female as 0"
   ]
  },
  {
   "cell_type": "code",
   "execution_count": 161,
   "metadata": {
    "id": "bshETKBrDrJO"
   },
   "outputs": [],
   "source": [
    "def partition(x):\n",
    "    if x == 'Male':\n",
    "        return 1\n",
    "    return 0\n",
    "\n",
    "dataset['Gender of the patient'] = dataset['Gender of the patient'].map(partition)"
   ]
  },
  {
   "cell_type": "code",
   "execution_count": 162,
   "metadata": {
    "colab": {
     "base_uri": "https://localhost:8080/",
     "height": 0
    },
    "id": "Ek8yrAk3FVVn",
    "outputId": "de39a1b1-bf40-4a6f-9c73-b79d4863ca64"
   },
   "outputs": [
    {
     "data": {
      "text/html": [
       "<div>\n",
       "<style scoped>\n",
       "    .dataframe tbody tr th:only-of-type {\n",
       "        vertical-align: middle;\n",
       "    }\n",
       "\n",
       "    .dataframe tbody tr th {\n",
       "        vertical-align: top;\n",
       "    }\n",
       "\n",
       "    .dataframe thead th {\n",
       "        text-align: right;\n",
       "    }\n",
       "</style>\n",
       "<table border=\"1\" class=\"dataframe\">\n",
       "  <thead>\n",
       "    <tr style=\"text-align: right;\">\n",
       "      <th></th>\n",
       "      <th>Age of the patient</th>\n",
       "      <th>Gender of the patient</th>\n",
       "      <th>Total Bilirubin</th>\n",
       "      <th>Direct Bilirubin</th>\n",
       "      <th>Alkphos Alkaline Phosphotase</th>\n",
       "      <th>Sgpt Alamine Aminotransferase</th>\n",
       "      <th>Sgot Aspartate Aminotransferase</th>\n",
       "      <th>Total Protiens</th>\n",
       "      <th>ALB Albumin</th>\n",
       "      <th>A/G Ratio Albumin and Globulin Ratio</th>\n",
       "      <th>Result</th>\n",
       "    </tr>\n",
       "  </thead>\n",
       "  <tbody>\n",
       "    <tr>\n",
       "      <th>0</th>\n",
       "      <td>65.0</td>\n",
       "      <td>0</td>\n",
       "      <td>0.7</td>\n",
       "      <td>0.1</td>\n",
       "      <td>187.0</td>\n",
       "      <td>16.0</td>\n",
       "      <td>18.0</td>\n",
       "      <td>6.8</td>\n",
       "      <td>3.3</td>\n",
       "      <td>0.90</td>\n",
       "      <td>1</td>\n",
       "    </tr>\n",
       "    <tr>\n",
       "      <th>1</th>\n",
       "      <td>62.0</td>\n",
       "      <td>1</td>\n",
       "      <td>10.9</td>\n",
       "      <td>5.5</td>\n",
       "      <td>699.0</td>\n",
       "      <td>64.0</td>\n",
       "      <td>100.0</td>\n",
       "      <td>7.5</td>\n",
       "      <td>3.2</td>\n",
       "      <td>0.74</td>\n",
       "      <td>1</td>\n",
       "    </tr>\n",
       "    <tr>\n",
       "      <th>2</th>\n",
       "      <td>62.0</td>\n",
       "      <td>1</td>\n",
       "      <td>7.3</td>\n",
       "      <td>4.1</td>\n",
       "      <td>490.0</td>\n",
       "      <td>60.0</td>\n",
       "      <td>68.0</td>\n",
       "      <td>7.0</td>\n",
       "      <td>3.3</td>\n",
       "      <td>0.89</td>\n",
       "      <td>1</td>\n",
       "    </tr>\n",
       "    <tr>\n",
       "      <th>3</th>\n",
       "      <td>58.0</td>\n",
       "      <td>1</td>\n",
       "      <td>1.0</td>\n",
       "      <td>0.4</td>\n",
       "      <td>182.0</td>\n",
       "      <td>14.0</td>\n",
       "      <td>20.0</td>\n",
       "      <td>6.8</td>\n",
       "      <td>3.4</td>\n",
       "      <td>1.00</td>\n",
       "      <td>1</td>\n",
       "    </tr>\n",
       "    <tr>\n",
       "      <th>4</th>\n",
       "      <td>72.0</td>\n",
       "      <td>1</td>\n",
       "      <td>3.9</td>\n",
       "      <td>2.0</td>\n",
       "      <td>195.0</td>\n",
       "      <td>27.0</td>\n",
       "      <td>59.0</td>\n",
       "      <td>7.3</td>\n",
       "      <td>2.4</td>\n",
       "      <td>0.40</td>\n",
       "      <td>1</td>\n",
       "    </tr>\n",
       "    <tr>\n",
       "      <th>...</th>\n",
       "      <td>...</td>\n",
       "      <td>...</td>\n",
       "      <td>...</td>\n",
       "      <td>...</td>\n",
       "      <td>...</td>\n",
       "      <td>...</td>\n",
       "      <td>...</td>\n",
       "      <td>...</td>\n",
       "      <td>...</td>\n",
       "      <td>...</td>\n",
       "      <td>...</td>\n",
       "    </tr>\n",
       "    <tr>\n",
       "      <th>29974</th>\n",
       "      <td>58.0</td>\n",
       "      <td>1</td>\n",
       "      <td>2.9</td>\n",
       "      <td>1.3</td>\n",
       "      <td>482.0</td>\n",
       "      <td>22.0</td>\n",
       "      <td>34.0</td>\n",
       "      <td>7.0</td>\n",
       "      <td>2.4</td>\n",
       "      <td>0.50</td>\n",
       "      <td>1</td>\n",
       "    </tr>\n",
       "    <tr>\n",
       "      <th>29976</th>\n",
       "      <td>28.0</td>\n",
       "      <td>1</td>\n",
       "      <td>1.9</td>\n",
       "      <td>1.0</td>\n",
       "      <td>231.0</td>\n",
       "      <td>16.0</td>\n",
       "      <td>55.0</td>\n",
       "      <td>4.3</td>\n",
       "      <td>1.6</td>\n",
       "      <td>0.60</td>\n",
       "      <td>1</td>\n",
       "    </tr>\n",
       "    <tr>\n",
       "      <th>30686</th>\n",
       "      <td>50.0</td>\n",
       "      <td>1</td>\n",
       "      <td>2.2</td>\n",
       "      <td>1.0</td>\n",
       "      <td>610.0</td>\n",
       "      <td>17.0</td>\n",
       "      <td>28.0</td>\n",
       "      <td>7.3</td>\n",
       "      <td>2.6</td>\n",
       "      <td>0.55</td>\n",
       "      <td>1</td>\n",
       "    </tr>\n",
       "    <tr>\n",
       "      <th>30688</th>\n",
       "      <td>54.0</td>\n",
       "      <td>1</td>\n",
       "      <td>6.8</td>\n",
       "      <td>3.0</td>\n",
       "      <td>542.0</td>\n",
       "      <td>116.0</td>\n",
       "      <td>66.0</td>\n",
       "      <td>6.4</td>\n",
       "      <td>3.1</td>\n",
       "      <td>0.90</td>\n",
       "      <td>1</td>\n",
       "    </tr>\n",
       "    <tr>\n",
       "      <th>30689</th>\n",
       "      <td>48.0</td>\n",
       "      <td>0</td>\n",
       "      <td>1.9</td>\n",
       "      <td>1.0</td>\n",
       "      <td>231.0</td>\n",
       "      <td>16.0</td>\n",
       "      <td>55.0</td>\n",
       "      <td>4.3</td>\n",
       "      <td>1.6</td>\n",
       "      <td>0.60</td>\n",
       "      <td>1</td>\n",
       "    </tr>\n",
       "  </tbody>\n",
       "</table>\n",
       "<p>19368 rows × 11 columns</p>\n",
       "</div>"
      ],
      "text/plain": [
       "       Age of the patient  Gender of the patient  Total Bilirubin  \\\n",
       "0                    65.0                      0              0.7   \n",
       "1                    62.0                      1             10.9   \n",
       "2                    62.0                      1              7.3   \n",
       "3                    58.0                      1              1.0   \n",
       "4                    72.0                      1              3.9   \n",
       "...                   ...                    ...              ...   \n",
       "29974                58.0                      1              2.9   \n",
       "29976                28.0                      1              1.9   \n",
       "30686                50.0                      1              2.2   \n",
       "30688                54.0                      1              6.8   \n",
       "30689                48.0                      0              1.9   \n",
       "\n",
       "       Direct Bilirubin   Alkphos Alkaline Phosphotase  \\\n",
       "0                   0.1                          187.0   \n",
       "1                   5.5                          699.0   \n",
       "2                   4.1                          490.0   \n",
       "3                   0.4                          182.0   \n",
       "4                   2.0                          195.0   \n",
       "...                 ...                            ...   \n",
       "29974               1.3                          482.0   \n",
       "29976               1.0                          231.0   \n",
       "30686               1.0                          610.0   \n",
       "30688               3.0                          542.0   \n",
       "30689               1.0                          231.0   \n",
       "\n",
       "        Sgpt Alamine Aminotransferase  Sgot Aspartate Aminotransferase  \\\n",
       "0                                16.0                             18.0   \n",
       "1                                64.0                            100.0   \n",
       "2                                60.0                             68.0   \n",
       "3                                14.0                             20.0   \n",
       "4                                27.0                             59.0   \n",
       "...                               ...                              ...   \n",
       "29974                            22.0                             34.0   \n",
       "29976                            16.0                             55.0   \n",
       "30686                            17.0                             28.0   \n",
       "30688                           116.0                             66.0   \n",
       "30689                            16.0                             55.0   \n",
       "\n",
       "       Total Protiens   ALB Albumin  A/G Ratio Albumin and Globulin Ratio  \\\n",
       "0                 6.8           3.3                                  0.90   \n",
       "1                 7.5           3.2                                  0.74   \n",
       "2                 7.0           3.3                                  0.89   \n",
       "3                 6.8           3.4                                  1.00   \n",
       "4                 7.3           2.4                                  0.40   \n",
       "...               ...           ...                                   ...   \n",
       "29974             7.0           2.4                                  0.50   \n",
       "29976             4.3           1.6                                  0.60   \n",
       "30686             7.3           2.6                                  0.55   \n",
       "30688             6.4           3.1                                  0.90   \n",
       "30689             4.3           1.6                                  0.60   \n",
       "\n",
       "       Result  \n",
       "0           1  \n",
       "1           1  \n",
       "2           1  \n",
       "3           1  \n",
       "4           1  \n",
       "...       ...  \n",
       "29974       1  \n",
       "29976       1  \n",
       "30686       1  \n",
       "30688       1  \n",
       "30689       1  \n",
       "\n",
       "[19368 rows x 11 columns]"
      ]
     },
     "execution_count": 162,
     "metadata": {},
     "output_type": "execute_result"
    }
   ],
   "source": [
    "dataset"
   ]
  },
  {
   "cell_type": "markdown",
   "metadata": {
    "id": "sBT8uahPGA1i"
   },
   "source": [
    "#Converting Output Column 'Dataset' to 0's and 1's\n",
    "\n",
    "Dataset i.e output value has '1' for liver disease and '2' for no liver disease so let's make it 0 for no disease to make it convinient"
   ]
  },
  {
   "cell_type": "code",
   "execution_count": 163,
   "metadata": {
    "id": "tAZ4RaDQF25t"
   },
   "outputs": [],
   "source": [
    "def partition(x):\n",
    "    if x == 2:\n",
    "        return 0\n",
    "    return 1\n",
    "\n",
    "dataset['Result'] = dataset['Result'].map(partition)"
   ]
  },
  {
   "cell_type": "code",
   "execution_count": 164,
   "metadata": {
    "colab": {
     "base_uri": "https://localhost:8080/"
    },
    "id": "OyY5aElMGX5I",
    "outputId": "0bc9aa4c-5bee-4a00-9a42-d4478535981a"
   },
   "outputs": [
    {
     "data": {
      "text/plain": [
       "0        1\n",
       "1        1\n",
       "2        1\n",
       "3        1\n",
       "4        1\n",
       "        ..\n",
       "29974    1\n",
       "29976    1\n",
       "30686    1\n",
       "30688    1\n",
       "30689    1\n",
       "Name: Result, Length: 19368, dtype: int64"
      ]
     },
     "execution_count": 164,
     "metadata": {},
     "output_type": "execute_result"
    }
   ],
   "source": [
    "dataset['Result']"
   ]
  },
  {
   "cell_type": "markdown",
   "metadata": {
    "id": "6wTuKyMVL53k"
   },
   "source": [
    "#Correlation Matrix"
   ]
  },
  {
   "cell_type": "code",
   "execution_count": 165,
   "metadata": {
    "colab": {
     "base_uri": "https://localhost:8080/",
     "height": 0
    },
    "id": "f8AkvxLDL_nq",
    "outputId": "5d2f4cc5-497c-4bcb-fddc-848b70179455"
   },
   "outputs": [
    {
     "data": {
      "text/plain": [
       "<AxesSubplot:>"
      ]
     },
     "execution_count": 165,
     "metadata": {},
     "output_type": "execute_result"
    },
    {
     "data": {
      "image/png": "[encoded data removed]",
      "text/plain": [
       "<Figure size 720x720 with 2 Axes>"
      ]
     },
     "metadata": {
      "needs_background": "light"
     },
     "output_type": "display_data"
    }
   ],
   "source": [
    "plt.figure(figsize=(10,10))\n",
    "sns.heatmap(dataset.corr())"
   ]
  },
  {
   "cell_type": "code",
   "execution_count": 166,
   "metadata": {},
   "outputs": [],
   "source": [
    "dataset.dropna(inplace=True)\n"
   ]
  },
  {
   "cell_type": "code",
   "execution_count": 167,
   "metadata": {},
   "outputs": [],
   "source": [
    "# Convert categorical variables to numerical using label encoding\n",
    "le = LabelEncoder()\n",
    "data['Gender of the patient'] = le.fit_transform(data['Gender of the patient'])\n",
    "data['Result'] = le.fit_transform(data['Result'])"
   ]
  },
  {
   "cell_type": "code",
   "execution_count": 168,
   "metadata": {},
   "outputs": [],
   "source": [
    "# Scale the training and testing sets separately\n",
    "scaler = StandardScaler()\n",
    "X_train = scaler.fit_transform(X_train)\n",
    "X_test = scaler.transform(X_test)"
   ]
  },
  {
   "cell_type": "markdown",
   "metadata": {},
   "source": [
    "# logistic regression"
   ]
  },
  {
   "cell_type": "code",
   "execution_count": 169,
   "metadata": {},
   "outputs": [
    {
     "name": "stdout",
     "output_type": "stream",
     "text": [
      "Accuracy: 71.92562592047128\n",
      "Precision: 73.85017071701144\n",
      "Recall: 94.28205128205128\n",
      "F1 score: 82.82464241468634\n",
      "ROC AUC score: 99.76608187134504\n"
     ]
    },
    {
     "name": "stderr",
     "output_type": "stream",
     "text": [
      "C:\\Users\\SARAFATHALI.K\\anaconda3\\lib\\site-packages\\sklearn\\linear_model\\_logistic.py:763: ConvergenceWarning: lbfgs failed to converge (status=1):\n",
      "STOP: TOTAL NO. of ITERATIONS REACHED LIMIT.\n",
      "\n",
      "Increase the number of iterations (max_iter) or scale the data as shown in:\n",
      "    https://scikit-learn.org/stable/modules/preprocessing.html\n",
      "Please also refer to the documentation for alternative solver options:\n",
      "    https://scikit-learn.org/stable/modules/linear_model.html#logistic-regression\n",
      "  n_iter_i = _check_optimize_result(\n"
     ]
    }
   ],
   "source": [
    "\n",
    "# Importing necessary libraries\n",
    "import pandas as pd\n",
    "import numpy as np\n",
    "from sklearn.model_selection import train_test_split\n",
    "from sklearn.linear_model import LogisticRegression\n",
    "from sklearn.metrics import accuracy_score, precision_score, recall_score, f1_score, roc_auc_score, confusion_matrix\n",
    "\n",
    "# Reading the data\n",
    "data=pd.read_csv(r\"Liver Patient Dataset (LPD)_train.csv\",encoding= 'unicode_escape')\n",
    "data.head()\n",
    "\n",
    "# Preprocessing the data\n",
    "data = data.dropna()\n",
    "data['Gender of the patient'] = data['Gender of the patient'].map({'Male': 1, 'Female': 0})\n",
    "\n",
    "# Splitting the data into training and testing sets\n",
    "X = data.drop('Result', axis=1)\n",
    "y = data['Result']\n",
    "X_train, X_test, y_train, y_test = train_test_split(X, y, test_size=0.2, random_state=42)\n",
    "\n",
    "# Creating the logistic regression model\n",
    "lr = LogisticRegression(random_state=42)\n",
    "lr.fit(X_train, y_train)\n",
    "\n",
    "# Predicting the test set results\n",
    "y_pred = lr.predict(X_test)\n",
    "\n",
    "# Performance Metrics\n",
    "accuracy = accuracy_score(y_test, y_pred)\n",
    "precision = precision_score(y_test, y_pred)\n",
    "recall = recall_score(y_test, y_pred)\n",
    "f1 = f1_score(y_test, y_pred)\n",
    "auc = roc_auc_score(y_test, y_pred)\n",
    "cm = confusion_matrix(y_test, y_pred)\n",
    "\n",
    "# Outputting the results\n",
    "# Print the performance metrics\n",
    "print('Accuracy:', accuracy*100)\n",
    "print('Precision:', precision*100)\n",
    "print('Recall:', recall*100)\n",
    "print('F1 score:', f1*100)\n",
    "print('ROC AUC score:', roc_auc*100)"
   ]
  },
  {
   "cell_type": "markdown",
   "metadata": {},
   "source": [
    "# random forest"
   ]
  },
  {
   "cell_type": "code",
   "execution_count": 170,
   "metadata": {},
   "outputs": [
    {
     "name": "stderr",
     "output_type": "stream",
     "text": [
      "C:\\Users\\SARAFA~1.K\\AppData\\Local\\Temp/ipykernel_24192/1238179708.py:10: FutureWarning: Dropping of nuisance columns in DataFrame reductions (with 'numeric_only=None') is deprecated; in a future version this will raise TypeError.  Select only valid columns before calling the reduction.\n",
      "  data.fillna(data.median(), inplace=True)\n"
     ]
    },
    {
     "name": "stdout",
     "output_type": "stream",
     "text": [
      "Accuracy: 99.86968561654993\n",
      "Precision: 99.81969799414018\n",
      "Recall: 100.0\n",
      "F1 score: 99.90976765170313\n",
      "ROC AUC score: 99.76608187134504\n"
     ]
    }
   ],
   "source": [
    "import pandas as pd\n",
    "from sklearn.model_selection import train_test_split\n",
    "from sklearn.ensemble import RandomForestClassifier\n",
    "from sklearn.metrics import accuracy_score, precision_score, recall_score, f1_score, roc_auc_score\n",
    "\n",
    "# Load the dataset\n",
    "data=pd.read_csv(r\"Liver Patient Dataset (LPD)_train.csv\",encoding= 'unicode_escape')\n",
    "data.head()\n",
    "# Preprocessing: Replace missing values with median\n",
    "data.fillna(data.median(), inplace=True)\n",
    "from sklearn.preprocessing import OneHotEncoder\n",
    "# Split the data into training and testing sets\n",
    "X_train, X_test, y_train, y_test = train_test_split(data.drop('Result', axis=1), \n",
    "                                                    data['Result'], test_size=0.2, random_state=42)\n",
    "# Initialize the Random Forest classifier\n",
    "rf_clf = RandomForestClassifier(n_estimators=100, random_state=42)\n",
    "from sklearn.preprocessing import OneHotEncoder\n",
    "\n",
    "# Create a OneHotEncoder object\n",
    "onehot = OneHotEncoder()\n",
    "\n",
    "# Encode the categorical variables in the training and testing data\n",
    "X_train_encoded = onehot.fit_transform(X_train)\n",
    "X_test_encoded = onehot.transform(X_test)\n",
    "\n",
    "# Fit the model on the training data\n",
    "rf_clf.fit(X_train_encoded, y_train)\n",
    "\n",
    "# Predict on the testing data\n",
    "y_pred = rf_clf.predict(X_test_encoded)\n",
    "#Evaluate the model using various performance metrics\n",
    "accuracy = accuracy_score(y_test, y_pred)\n",
    "precision = precision_score(y_test, y_pred)\n",
    "recall = recall_score(y_test, y_pred)\n",
    "f1 = f1_score(y_test, y_pred)\n",
    "roc_auc = roc_auc_score(y_test, y_pred)\n",
    "\n",
    "\n",
    "# Print the performance metrics\n",
    "print('Accuracy:', accuracy*100)\n",
    "print('Precision:', precision*100)\n",
    "print('Recall:', recall*100)\n",
    "print('F1 score:', f1*100)\n",
    "print('ROC AUC score:', roc_auc*100)"
   ]
  },
  {
   "cell_type": "markdown",
   "metadata": {},
   "source": [
    "# support vector machine"
   ]
  },
  {
   "cell_type": "code",
   "execution_count": 171,
   "metadata": {},
   "outputs": [
    {
     "name": "stderr",
     "output_type": "stream",
     "text": [
      "C:\\Users\\SARAFA~1.K\\AppData\\Local\\Temp/ipykernel_24192/763164910.py:11: FutureWarning: Dropping of nuisance columns in DataFrame reductions (with 'numeric_only=None') is deprecated; in a future version this will raise TypeError.  Select only valid columns before calling the reduction.\n",
      "  data.fillna(data.median(), inplace=True)\n"
     ]
    },
    {
     "name": "stdout",
     "output_type": "stream",
     "text": [
      "Accuracy: 72.14530053754683\n",
      "Precision: 72.14530053754683\n",
      "Recall: 100.0\n",
      "F1 score: 83.81907645722937\n",
      "ROC AUC score: 50.0\n"
     ]
    }
   ],
   "source": [
    "import pandas as pd\n",
    "from sklearn.model_selection import train_test_split\n",
    "from sklearn.svm import SVC\n",
    "from sklearn.preprocessing import LabelEncoder, StandardScaler\n",
    "from sklearn.metrics import accuracy_score, precision_score, recall_score, f1_score, roc_auc_score\n",
    "\n",
    "# Load the dataset\n",
    "data = pd.read_csv(r\"Liver Patient Dataset (LPD)_train.csv\", encoding='unicode_escape')\n",
    "\n",
    "# Preprocessing: Replace missing values with median\n",
    "data.fillna(data.median(), inplace=True)\n",
    "\n",
    "# Preprocessing: Encode categorical variables\n",
    "label_encoder = LabelEncoder()\n",
    "data['Gender of the patient'] = label_encoder.fit_transform(data['Gender of the patient'])\n",
    "\n",
    "# Split the data into training and testing sets\n",
    "X_train, X_test, y_train, y_test = train_test_split(data.drop('Result', axis=1), data['Result'], test_size=0.2, random_state=42)\n",
    "\n",
    "# Preprocessing: Normalize the data\n",
    "scaler = StandardScaler()\n",
    "X_train = scaler.fit_transform(X_train)\n",
    "X_test = scaler.transform(X_test)\n",
    "\n",
    "# Initialize the SVM classifier\n",
    "svm_clf = SVC(kernel='linear', C=1, random_state=42)\n",
    "\n",
    "# Fit the model on the training data\n",
    "svm_clf.fit(X_train, y_train)\n",
    "\n",
    "# Predict on the testing data\n",
    "y_pred = svm_clf.predict(X_test)\n",
    "\n",
    "# Evaluate the model using various performance metrics\n",
    "accuracy = accuracy_score(y_test, y_pred)\n",
    "precision = precision_score(y_test, y_pred)\n",
    "recall = recall_score(y_test, y_pred)\n",
    "f1 = f1_score(y_test, y_pred)\n",
    "roc_auc = roc_auc_score(y_test, y_pred)\n",
    "\n",
    "# Print the performance metrics\n",
    "print('Accuracy:', accuracy*100)\n",
    "print('Precision:', precision*100)\n",
    "print('Recall:', recall*100)\n",
    "print('F1 score:', f1*100)\n",
    "print('ROC AUC score:', roc_auc*100)"
   ]
  },
  {
   "cell_type": "markdown",
   "metadata": {
    "id": "bI7wYNfPWP-W"
   },
   "source": [
    "#saving the models"
   ]
  },
  {
   "cell_type": "markdown",
   "metadata": {},
   "source": [
    "# KNN"
   ]
  },
  {
   "cell_type": "code",
   "execution_count": 172,
   "metadata": {},
   "outputs": [
    {
     "name": "stderr",
     "output_type": "stream",
     "text": [
      "C:\\Users\\SARAFA~1.K\\AppData\\Local\\Temp/ipykernel_24192/43746374.py:11: FutureWarning: Dropping of nuisance columns in DataFrame reductions (with 'numeric_only=None') is deprecated; in a future version this will raise TypeError.  Select only valid columns before calling the reduction.\n",
      "  data.fillna(data.median(), inplace=True)\n"
     ]
    },
    {
     "name": "stdout",
     "output_type": "stream",
     "text": [
      "Accuracy: 91.57843296953901\n",
      "Precision: 94.07390716538981\n",
      "Recall: 94.26507112214946\n",
      "F1 score: 94.16939212811548\n",
      "ROC AUC score: 89.44247708154256\n"
     ]
    }
   ],
   "source": [
    "import pandas as pd\n",
    "from sklearn.model_selection import train_test_split\n",
    "from sklearn.neighbors import KNeighborsClassifier\n",
    "from sklearn.preprocessing import LabelEncoder, StandardScaler\n",
    "from sklearn.metrics import accuracy_score, precision_score, recall_score, f1_score, roc_auc_score\n",
    "\n",
    "# Load the dataset\n",
    "data = pd.read_csv(r\"Liver Patient Dataset (LPD)_train.csv\", encoding='unicode_escape')\n",
    "\n",
    "# Preprocessing: Replace missing values with median\n",
    "data.fillna(data.median(), inplace=True)\n",
    "\n",
    "# Preprocessing: Encode categorical variables\n",
    "label_encoder = LabelEncoder()\n",
    "data['Gender of the patient'] = label_encoder.fit_transform(data['Gender of the patient'])\n",
    "\n",
    "# Split the data into training and testing sets\n",
    "X_train, X_test, y_train, y_test = train_test_split(data.drop('Result', axis=1), data['Result'], test_size=0.2, random_state=42)\n",
    "\n",
    "# Preprocessing: Normalize the data\n",
    "scaler = StandardScaler()\n",
    "X_train = scaler.fit_transform(X_train)\n",
    "X_test = scaler.transform(X_test)\n",
    "\n",
    "# Initialize the KNN classifier\n",
    "knn_clf = KNeighborsClassifier(n_neighbors=5)\n",
    "\n",
    "# Fit the model on the training data\n",
    "knn_clf.fit(X_train, y_train)\n",
    "\n",
    "# Predict on the testing data\n",
    "y_pred = knn_clf.predict(X_test)\n",
    "\n",
    "# Evaluate the model using various performance metrics\n",
    "accuracy = accuracy_score(y_test, y_pred)\n",
    "precision = precision_score(y_test, y_pred)\n",
    "recall = recall_score(y_test, y_pred)\n",
    "f1 = f1_score(y_test, y_pred)\n",
    "roc_auc = roc_auc_score(y_test, y_pred)\n",
    "\n",
    "# Print the performance metrics\n",
    "print('Accuracy:', accuracy*100)\n",
    "print('Precision:', precision*100)\n",
    "print('Recall:', recall*100)\n",
    "print('F1 score:', f1*100)\n",
    "print('ROC AUC score:', roc_auc*100)\n"
   ]
  },
  {
   "cell_type": "code",
   "execution_count": 173,
   "metadata": {
    "id": "znhiirg_WO_I"
   },
   "outputs": [],
   "source": [
    "import pickle\n",
    "pickle.dump(rf_clf, open('model.pkl', 'wb'))\n",
    "pickle.dump(scaler, open('sc.pkl', 'wb'))"
   ]
  },
  {
   "cell_type": "code",
   "execution_count": null,
   "metadata": {},
   "outputs": [],
   "source": []
  }
 ],
 "metadata": {
  "colab": {
   "name": "Liver Disease Prediction.ipynb",
   "provenance": [],
   "toc_visible": true
  },
  "kernelspec": {
   "display_name": "Python 3 (ipykernel)",
   "language": "python",
   "name": "python3"
  },
  "language_info": {
   "codemirror_mode": {
    "name": "ipython",
    "version": 3
   },
   "file_extension": ".py",
   "mimetype": "text/x-python",
   "name": "python",
   "nbconvert_exporter": "python",
   "pygments_lexer": "ipython3",
   "version": "3.9.7"
  }
 },
 "nbformat": 4,
 "nbformat_minor": 1
}
